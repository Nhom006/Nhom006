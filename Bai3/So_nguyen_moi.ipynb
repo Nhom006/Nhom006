{
  "nbformat": 4,
  "nbformat_minor": 0,
  "metadata": {
    "colab": {
      "name": "Untitled2.ipynb",
      "provenance": []
    },
    "kernelspec": {
      "name": "python3",
      "display_name": "Python 3"
    },
    "language_info": {
      "name": "python"
    }
  },
  "cells": [
    {
      "cell_type": "markdown",
      "metadata": {
        "id": "mOCKcgshdn5w"
      },
      "source": [
        "# **Số Nguyên Mới**\n",
        "\n",
        "Cho số nguyên dương n có không quá 100 chữ số. Hãy xác định số nguyên lớn nhất m chia hết cho 3 và khác n ở đúng một chữ số.\n",
        "\n",
        "Ví dụ, n = 123 thì m sẽ là 723.\n",
        "\n",
        "Dữ liệu: Vào từ thiết bị nhập chuẩn gồm một dòng chứa số nguyên n có không quá 100 chữ số và không chứa các số 0 không có nghĩa.\n",
        "\n",
        "Kết quả: Đưa ra thiết bị xuất chuẩn số nguyên m tìm được.\n",
        "\n",
        "Input 123 Output 723\n",
        "\n",
        "# **Abstraction:**\n",
        "\n",
        "Cho số nguyên n, tìm số nguyên lớn nhất sao cho số nguyên đó chia hết cho 3 và khác n đúng một chữ số.\n",
        "\n",
        "# **Pattern Recognition:**\n",
        "\n",
        "Tên dạng bài toán: số lớn nhất chia hết cho 3\n",
        "\n",
        "Kỹ thuật áp dụng: áp dụng tính chất một số muốn chia hết cho 3 thì tổng các phần tử của nó chia hết cho 3.\n",
        "\n"
      ]
    }
  ]
}