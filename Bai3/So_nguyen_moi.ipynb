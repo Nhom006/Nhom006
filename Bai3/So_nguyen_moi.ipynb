{
  "nbformat": 4,
  "nbformat_minor": 0,
  "metadata": {
    "colab": {
      "name": "Untitled2.ipynb",
      "provenance": []
    },
    "kernelspec": {
      "name": "python3",
      "display_name": "Python 3"
    },
    "language_info": {
      "name": "python"
    }
  },
  "cells": [
    {
      "cell_type": "markdown",
      "metadata": {
        "id": "mOCKcgshdn5w"
      },
      "source": [
        "# **Số Nguyên Mới**\n",
        "\n",
        "Cho số nguyên dương n có không quá 100 chữ số. Hãy xác định số nguyên lớn nhất m chia hết cho 3 và khác n ở đúng một chữ số.\n",
        "\n",
        "Ví dụ, n = 123 thì m sẽ là 723.\n",
        "\n",
        "Dữ liệu: Vào từ thiết bị nhập chuẩn gồm một dòng chứa số nguyên n có không quá 100 chữ số và không chứa các số 0 không có nghĩa.\n",
        "\n",
        "Kết quả: Đưa ra thiết bị xuất chuẩn số nguyên m tìm được.\n",
        "\n",
        "Input 123 Output 723\n",
        "\n",
        "# **Abstraction:**\n",
        "\n",
        "Cho số nguyên n, tìm số nguyên lớn nhất sao cho số nguyên đó chia hết cho 3 và khác n đúng một chữ số.\n",
        "\n",
        "# **Pattern Recognition:**\n",
        "\n",
        "Tên dạng bài toán: số lớn nhất chia hết cho 3\n",
        "\n",
        "Kỹ thuật áp dụng: áp dụng giải thuật vét cạn. Tính chất: một số muốn chia hết cho 3 thì tổng các phần tử của nó phải chia hết cho 3.\n",
        "\n",
        "# **Đánh giá độ phức tạp thuật toán:**\n",
        "\n",
        "Do thuật toán duyệt qua từng phần tử nên độ phức tạp là O(n).\n",
        "\n",
        "# **Programming:**\n",
        "\n",
        "\n",
        "```\n",
        "#Nhập số nguyên n và ép n về chuỗi.\n",
        "n = str(input())\n",
        "#Lấy từng phần tử của n bỏ vào mảng A\n",
        "A = [int(i) for i in n]\n",
        "dem=0\n",
        "for i in range(len(A)):\n",
        "    #Gán phần tử thứ i vào a\n",
        "    a = A[i]\n",
        "    #Gán A[i] số lớn nhất \"9\".\n",
        "    A[i] = 9\n",
        "    #Tìm số dư phép chia của n cho 3. \n",
        "    so_du = sum(A)%3\n",
        "    #\n",
        "    A[i] = 9 - so_du\n",
        "    #Nếu A[i] lớn hơn a thì số a chưa lớn nhất, gán biến dem=1 và thoát khỏi vòng lặp.\n",
        "    #Nếu A[i] nhỏ hơn hoặc bằng a thì số n ban đầu chia hết cho 3 và A[i] là lớn nhất. \n",
        "    if A[i]>a: \n",
        "        dem=1         \n",
        "        break\n",
        "    else:  \n",
        "        A[i] = a    \n",
        "#Kiểm tra n có chia hết cho 3 không.\n",
        "##Nếu không chia hết cho 3 thì lấy n trừ cho số dư (\"sum(A)%3\") để n chia hết cho 3.\n",
        "if sum(A)%3 != 0:\n",
        "    A[len(A)-1] -= sum(A)%3\n",
        "##Nếu n chia hết cho 3 và n đạt giới hạn lớn nhất, thì giảm đi 3 để được số mới chia hết cho 3 và lớn nhất sau n.\n",
        "elif dem==0:\n",
        "    A[len(A)-1] -= 3\n",
        "#In ra các chữ số, dùng \"sep\" để nối các chữ số trong mảng A thành 1 số nguyên hoàn chỉnh.\n",
        "print(*A,sep=\"\")\n",
        "```\n",
        "\n",
        "\n",
        "\n"
      ]
    }
  ]
}